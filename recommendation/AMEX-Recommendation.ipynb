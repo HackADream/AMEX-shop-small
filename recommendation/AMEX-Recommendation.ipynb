{
 "cells": [
  {
   "cell_type": "markdown",
   "metadata": {},
   "source": [
    "# Recommendation based on past purchases"
   ]
  },
  {
   "cell_type": "markdown",
   "metadata": {},
   "source": [
    "Import the neccessary libraries."
   ]
  },
  {
   "cell_type": "code",
   "execution_count": 1,
   "metadata": {},
   "outputs": [],
   "source": [
    "%load_ext autoreload\n",
    "%autoreload 2\n",
    "%matplotlib inline"
   ]
  },
  {
   "cell_type": "code",
   "execution_count": 2,
   "metadata": {},
   "outputs": [],
   "source": [
    "import io\n",
    "import os\n",
    "import math\n",
    "import copy\n",
    "import pickle\n",
    "import zipfile\n",
    "from textwrap import wrap\n",
    "from pathlib import Path\n",
    "from itertools import zip_longest\n",
    "from collections import defaultdict\n",
    "from urllib.error import URLError\n",
    "from urllib.request import urlopen\n",
    "\n",
    "import numpy as np\n",
    "import pandas as pd\n",
    "import matplotlib.pyplot as plt\n",
    "from sklearn.model_selection import train_test_split\n",
    "\n",
    "import torch\n",
    "from torch import nn\n",
    "from torch import optim\n",
    "from torch.nn import functional as F \n",
    "from torch.optim.lr_scheduler import _LRScheduler"
   ]
  },
  {
   "cell_type": "markdown",
   "metadata": {},
   "source": [
    "# Get Datasets"
   ]
  },
  {
   "cell_type": "markdown",
   "metadata": {},
   "source": [
    "We get the two datasets, which we created from the Data Preparation code. "
   ]
  },
  {
   "cell_type": "code",
   "execution_count": 3,
   "metadata": {},
   "outputs": [],
   "source": [
    "data_rating = pd.read_csv(\"user_rating.csv\")"
   ]
  },
  {
   "cell_type": "code",
   "execution_count": 4,
   "metadata": {},
   "outputs": [],
   "source": [
    "def create_dataset(ratings, top=None):\n",
    "    if top is not None:\n",
    "        ratings.groupby('UserID')['Rating'].count()\n",
    "    \n",
    "    unique_users = ratings.UserID.unique()\n",
    "    user_to_index = {old: new for new, old in enumerate(unique_users)}\n",
    "    new_users = ratings.UserID.map(user_to_index)\n",
    "    \n",
    "    unique_items = ratings.ItemID.unique()\n",
    "    item_to_index = {old: new for new, old in enumerate(unique_items)}\n",
    "    new_items = ratings.ItemID.map(item_to_index)\n",
    "    \n",
    "    unique_postcode = ratings.Postcode.unique()\n",
    "    postcode_to_index = {old: new for new, old in enumerate(unique_postcode)}\n",
    "    new_postcode = ratings.Postcode.map(postcode_to_index)\n",
    "\n",
    "    n_users = unique_users.shape[0]\n",
    "    n_items = unique_items.shape[0]\n",
    "    n_postcode = unique_postcode.shape[0]\n",
    "    \n",
    "    X = pd.DataFrame({'UserID': new_users, 'ItemID': new_items, 'Postcode': new_postcode})\n",
    "    y = ratings['Rating'].astype(np.float32)\n",
    "    return (n_users, n_items, n_postcode), (X, y), (user_to_index, item_to_index, postcode_to_index)"
   ]
  },
  {
   "cell_type": "code",
   "execution_count": 5,
   "metadata": {},
   "outputs": [
    {
     "name": "stdout",
     "output_type": "stream",
     "text": [
      "Embeddings: 500 users, 500 items, 10 postcode\n",
      "Dataset shape: (125000, 3)\n",
      "Target shape: (125000,)\n"
     ]
    }
   ],
   "source": [
    "(n, m, l), (X, y), _ = create_dataset(data_rating)\n",
    "print(f'Embeddings: {n} users, {m} items, {l} postcode')\n",
    "print(f'Dataset shape: {X.shape}')\n",
    "print(f'Target shape: {y.shape}')"
   ]
  },
  {
   "cell_type": "code",
   "execution_count": 6,
   "metadata": {},
   "outputs": [],
   "source": [
    "class ReviewsIterator:\n",
    "    \n",
    "    def __init__(self, X, y, batch_size=32, shuffle=True):\n",
    "        X, y = np.asarray(X), np.asarray(y)\n",
    "        \n",
    "        if shuffle:\n",
    "            index = np.random.permutation(X.shape[0])\n",
    "            X, y = X[index], y[index]\n",
    "            \n",
    "        self.X = X\n",
    "        self.y = y\n",
    "        self.batch_size = batch_size\n",
    "        self.shuffle = shuffle\n",
    "        self.n_batches = int(math.ceil(X.shape[0] // batch_size))\n",
    "        self._current = 0\n",
    "        \n",
    "    def __iter__(self):\n",
    "        return self\n",
    "    \n",
    "    def __next__(self):\n",
    "        return self.next()\n",
    "    \n",
    "    def next(self):\n",
    "        if self._current >= self.n_batches:\n",
    "            raise StopIteration()\n",
    "        k = self._current\n",
    "        self._current += 1\n",
    "        bs = self.batch_size\n",
    "        return self.X[k*bs:(k + 1)*bs], self.y[k*bs:(k + 1)*bs]"
   ]
  },
  {
   "cell_type": "code",
   "execution_count": 7,
   "metadata": {},
   "outputs": [],
   "source": [
    "def batches(X, y, bs=32, shuffle=True):\n",
    "    for xb, yb in ReviewsIterator(X, y, bs, shuffle):\n",
    "        xb = torch.LongTensor(xb)\n",
    "        yb = torch.FloatTensor(yb)\n",
    "        yield xb, yb.view(-1, 1)"
   ]
  },
  {
   "cell_type": "code",
   "execution_count": 8,
   "metadata": {},
   "outputs": [
    {
     "name": "stdout",
     "output_type": "stream",
     "text": [
      "tensor([[124, 366,   9],\n",
      "        [135, 293,   7],\n",
      "        [191, 348,   2],\n",
      "        [487,  58,   5]])\n",
      "tensor([[9.],\n",
      "        [0.],\n",
      "        [0.],\n",
      "        [3.]])\n"
     ]
    }
   ],
   "source": [
    "for x_batch, y_batch in batches(X, y, bs=4):\n",
    "    print(x_batch)\n",
    "    print(y_batch)\n",
    "    break"
   ]
  },
  {
   "cell_type": "markdown",
   "metadata": {},
   "source": [
    "# Training Data"
   ]
  },
  {
   "cell_type": "code",
   "execution_count": 9,
   "metadata": {},
   "outputs": [],
   "source": [
    "X_train, X_valid, y_train, y_valid = train_test_split(X, y, test_size=0.2, random_state=1)\n",
    "datasets = {'train': (X_train, y_train), 'val': (X_valid, y_valid)}\n",
    "dataset_sizes = {'train': len(X_train), 'val': len(X_valid)}"
   ]
  },
  {
   "cell_type": "code",
   "execution_count": 10,
   "metadata": {},
   "outputs": [],
   "source": [
    "minmax = [data_rating.Rating.min(), data_rating.Rating.max()]\n",
    "minmax = torch.Tensor(minmax)"
   ]
  },
  {
   "cell_type": "code",
   "execution_count": 11,
   "metadata": {},
   "outputs": [],
   "source": [
    "class EmbeddingNet(nn.Module):\n",
    "    \"\"\"\n",
    "    Creates a dense network with embedding layers.\n",
    "    \n",
    "    Args:\n",
    "    \n",
    "        n_users:            \n",
    "            Number of unique users in the dataset.\n",
    "\n",
    "        n_items: \n",
    "            Number of unique items in the dataset.\n",
    "        \n",
    "        n_postcodes: \n",
    "            Number of unique postcodes in the dataset.\n",
    "\n",
    "        n_factors: \n",
    "            Number of columns in the embeddings matrix.\n",
    "\n",
    "        embedding_dropout: \n",
    "            Dropout rate to apply right after embeddings layer.\n",
    "\n",
    "        hidden:\n",
    "            A single integer or a list of integers defining the number of \n",
    "            units in hidden layer(s).\n",
    "\n",
    "        dropouts: \n",
    "            A single integer or a list of integers defining the dropout \n",
    "            layers rates applyied right after each of hidden layers.\n",
    "            \n",
    "    \"\"\"\n",
    "    def __init__(self, n_users, n_items, n_postcodes,\n",
    "                 n_factors=50, embedding_dropout=0.02, \n",
    "                 hidden=10, dropouts=0.2):\n",
    "        \n",
    "        super().__init__()\n",
    "        hidden = get_list(hidden)\n",
    "        dropouts = get_list(dropouts)\n",
    "        n_last = hidden[-1]\n",
    "        \n",
    "        def gen_layers(n_in):\n",
    "            \"\"\"\n",
    "            A generator that yields a sequence of hidden layers and \n",
    "            their activations/dropouts.\n",
    "            \n",
    "            Note that the function captures `hidden` and `dropouts` \n",
    "            values from the outer scope.\n",
    "            \"\"\"\n",
    "            nonlocal hidden, dropouts\n",
    "            assert len(dropouts) <= len(hidden)\n",
    "            \n",
    "            for n_out, rate in zip_longest(hidden, dropouts):\n",
    "                yield nn.Linear(n_in, n_out)\n",
    "                yield nn.ReLU()\n",
    "                if rate is not None and rate > 0.:\n",
    "                    yield nn.Dropout(rate)\n",
    "                n_in = n_out\n",
    "            \n",
    "        self.u = nn.Embedding(n_users, n_factors)\n",
    "        self.m = nn.Embedding(n_items, n_factors)\n",
    "        self.p = nn.Embedding(n_postcodes, n_factors)\n",
    "        self.drop = nn.Dropout(embedding_dropout)\n",
    "        self.hidden = nn.Sequential(*list(gen_layers(n_factors * 3)))\n",
    "        self.fc = nn.Linear(n_last, 1)\n",
    "        self._init()\n",
    "        \n",
    "    def forward(self, users, items, postcodes, minmax=None):\n",
    "        features = torch.cat([self.u(users), self.m(items), self.p(postcodes)], dim=1)\n",
    "        x = self.drop(features)\n",
    "        x = self.hidden(x)\n",
    "        out = torch.sigmoid(self.fc(x))\n",
    "        if minmax is not None:\n",
    "            min_rating, max_rating = minmax\n",
    "            out = out*(max_rating - min_rating + 1) + min_rating - 0.5\n",
    "        return out\n",
    "    \n",
    "    def _init(self):\n",
    "        \"\"\"\n",
    "        Setup embeddings and hidden layers with reasonable initial values.\n",
    "        \"\"\"\n",
    "        \n",
    "        def init(m):\n",
    "            if type(m) == nn.Linear:\n",
    "                torch.nn.init.xavier_uniform_(m.weight)\n",
    "                m.bias.data.fill_(0.01)\n",
    "                \n",
    "        self.u.weight.data.uniform_(-0.05, 0.05)\n",
    "        self.m.weight.data.uniform_(-0.05, 0.05)\n",
    "        self.p.weight.data.uniform_(-0.05, 0.05)\n",
    "        self.hidden.apply(init)\n",
    "        init(self.fc)\n",
    "    \n",
    "    \n",
    "def get_list(n):\n",
    "    if isinstance(n, (int, float)):\n",
    "        return [n]\n",
    "    elif hasattr(n, '__iter__'):\n",
    "        return list(n)\n",
    "    raise TypeError('layers configuraiton should be a single number or a list of numbers')"
   ]
  },
  {
   "cell_type": "code",
   "execution_count": 12,
   "metadata": {},
   "outputs": [],
   "source": [
    "net = EmbeddingNet(\n",
    "    n_users=n, n_items=m, n_postcodes= l,\n",
    "    n_factors=150, hidden=[500, 500, 500], \n",
    "    embedding_dropout=0.05, dropouts=[0.5, 0.5, 0.25])"
   ]
  },
  {
   "cell_type": "code",
   "execution_count": 13,
   "metadata": {},
   "outputs": [
    {
     "name": "stdout",
     "output_type": "stream",
     "text": [
      "loss improvement on epoch: 1\n",
      "[001/100] train: 9.4671 - val: 8.8520\n",
      "[002/100] train: 9.1799 - val: 8.8728\n",
      "[003/100] train: 9.1396 - val: 8.9066\n",
      "[004/100] train: 9.1074 - val: 8.9208\n",
      "[005/100] train: 9.0615 - val: 8.9420\n",
      "[006/100] train: 8.9889 - val: 9.0020\n",
      "[007/100] train: 8.8782 - val: 9.1059\n",
      "[008/100] train: 8.7251 - val: 9.2485\n",
      "[009/100] train: 8.4934 - val: 9.5202\n",
      "[010/100] train: 8.2279 - val: 9.6670\n",
      "[011/100] train: 7.9539 - val: 9.8475\n",
      "early stopping after epoch 011\n"
     ]
    }
   ],
   "source": [
    "lr = 1e-3\n",
    "wd = 1e-5\n",
    "bs = 2000\n",
    "n_epochs = 100\n",
    "patience = 10\n",
    "no_improvements = 0\n",
    "best_loss = np.inf\n",
    "best_weights = None\n",
    "history = []\n",
    "lr_history = []\n",
    "\n",
    "device = torch.device('cuda:0' if torch.cuda.is_available() else 'cpu')\n",
    "\n",
    "net.to(device)\n",
    "criterion = nn.MSELoss(reduction='sum')\n",
    "optimizer = optim.Adam(net.parameters(), lr=lr, weight_decay=wd)\n",
    "iterations_per_epoch = int(math.ceil(dataset_sizes['train'] // bs))\n",
    "\n",
    "for epoch in range(n_epochs):\n",
    "    stats = {'epoch': epoch + 1, 'total': n_epochs}\n",
    "    \n",
    "    for phase in ('train', 'val'):\n",
    "        training = phase == 'train'\n",
    "        running_loss = 0.0\n",
    "        n_batches = 0\n",
    "        \n",
    "        for batch in batches(*datasets[phase], shuffle=training, bs=bs):\n",
    "            x_batch, y_batch = [b.to(device) for b in batch]\n",
    "            optimizer.zero_grad()\n",
    "        \n",
    "            # compute gradients only during 'train' phase\n",
    "            with torch.set_grad_enabled(training):\n",
    "                outputs = net(x_batch[:, 0], x_batch[:, 1], x_batch[:, 2], minmax)\n",
    "                loss = criterion(outputs, y_batch)\n",
    "                \n",
    "                # don't update weights and rates when in 'val' phase\n",
    "                if training:\n",
    "                    loss.backward()\n",
    "                    optimizer.step()\n",
    "                    \n",
    "            running_loss += loss.item()\n",
    "            \n",
    "        epoch_loss = running_loss / dataset_sizes[phase]\n",
    "        stats[phase] = epoch_loss\n",
    "        \n",
    "        # early stopping: save weights of the best model so far\n",
    "        if phase == 'val':\n",
    "            if epoch_loss < best_loss:\n",
    "                print('loss improvement on epoch: %d' % (epoch + 1))\n",
    "                best_loss = epoch_loss\n",
    "                best_weights = copy.deepcopy(net.state_dict())\n",
    "                no_improvements = 0\n",
    "            else:\n",
    "                no_improvements += 1\n",
    "                \n",
    "    history.append(stats)\n",
    "    print('[{epoch:03d}/{total:03d}] train: {train:.4f} - val: {val:.4f}'.format(**stats))\n",
    "    if no_improvements >= patience:\n",
    "        print('early stopping after epoch {epoch:03d}'.format(**stats))\n",
    "        break"
   ]
  },
  {
   "cell_type": "code",
   "execution_count": 14,
   "metadata": {},
   "outputs": [
    {
     "data": {
      "text/plain": [
       "<All keys matched successfully>"
      ]
     },
     "execution_count": 14,
     "metadata": {},
     "output_type": "execute_result"
    }
   ],
   "source": [
    "net.load_state_dict(best_weights)"
   ]
  },
  {
   "cell_type": "code",
   "execution_count": 15,
   "metadata": {},
   "outputs": [],
   "source": [
    "groud_truth, predictions = [], []\n",
    "\n",
    "with torch.no_grad():\n",
    "    for batch in batches(*datasets['val'], shuffle=False, bs=bs):\n",
    "        x_batch, y_batch = [b.to(device) for b in batch]\n",
    "        outputs = net(x_batch[:, 0], x_batch[:, 1], x_batch[:, 2], minmax)\n",
    "        groud_truth.extend(y_batch.tolist())\n",
    "        predictions.extend(outputs.tolist())\n",
    "\n",
    "groud_truth = np.asarray(groud_truth).ravel()\n",
    "predictions = np.asarray(predictions).ravel()"
   ]
  },
  {
   "cell_type": "code",
   "execution_count": 16,
   "metadata": {},
   "outputs": [
    {
     "name": "stdout",
     "output_type": "stream",
     "text": [
      "Final RMSE: 3.0373\n"
     ]
    }
   ],
   "source": [
    "final_loss = np.sqrt(np.mean((predictions - groud_truth)**2))\n",
    "print(f'Final RMSE: {final_loss:.4f}')"
   ]
  },
  {
   "cell_type": "code",
   "execution_count": 17,
   "metadata": {},
   "outputs": [],
   "source": [
    "with open('best.weights', 'wb') as file:\n",
    "    pickle.dump(best_weights, file)"
   ]
  },
  {
   "cell_type": "markdown",
   "metadata": {},
   "source": [
    "# Make Predictions"
   ]
  },
  {
   "cell_type": "markdown",
   "metadata": {},
   "source": [
    "We are going to predict the preferences of User 1 for all items. Our input will be User 1 (list of 1s), list of items and list of items' corresponding postcode. For each element in the output tensor, the higher the value, the higher the preference value for its corresponding item.  "
   ]
  },
  {
   "cell_type": "code",
   "execution_count": 22,
   "metadata": {},
   "outputs": [],
   "source": [
    "net.eval()\n",
    "user = torch.tensor([1] * 500)\n",
    "data_postcode = pd.read_csv(\"list_postcode.csv\")\n",
    "\n",
    "item_list = []\n",
    "postcode_list = []\n",
    "\n",
    "for data_val in data_postcode.values.tolist():\n",
    "    item_list.append(data_val[0]-1)\n",
    "    postcode_list.append(data_val[1])\n",
    "\n",
    "item = torch.tensor(item_list)\n",
    "\n",
    "unique_postcode = set(postcode_list)\n",
    "postcode_to_index = {old: new for new, old in enumerate(unique_postcode)}\n",
    "new_postcode = list(map(lambda x: postcode_to_index[x],postcode_list))\n",
    "\n",
    "postcode = torch.tensor(new_postcode)\n",
    "\n",
    "with torch.no_grad():\n",
    "    output = net(user,item, postcode)"
   ]
  },
  {
   "cell_type": "markdown",
   "metadata": {},
   "source": [
    "We have the output now. We create a dict where we map each items to its output score."
   ]
  },
  {
   "cell_type": "code",
   "execution_count": 23,
   "metadata": {},
   "outputs": [],
   "source": [
    "output_list = list(output.numpy().flatten())\n",
    "item_rating = {}\n",
    "\n",
    "for i in range(0,499):\n",
    "    item_rating[i] = output_list[i]"
   ]
  },
  {
   "cell_type": "markdown",
   "metadata": {},
   "source": [
    "Finally, we sorted the dict by its output score in reverse order. In the user preference list, the first item has the highest preferences from User 1 and the last item has the lowest preferences from User 1"
   ]
  },
  {
   "cell_type": "code",
   "execution_count": 24,
   "metadata": {},
   "outputs": [
    {
     "name": "stdout",
     "output_type": "stream",
     "text": [
      "[(147, 0.3238378), (2, 0.32282084), (334, 0.3224931), (117, 0.32242298), (343, 0.32216898), (496, 0.3207738), (307, 0.32068455), (90, 0.3201702), (105, 0.31998852), (193, 0.31899866), (194, 0.31879476), (399, 0.31850037), (258, 0.31849083), (459, 0.31835672), (120, 0.31820932), (88, 0.3181152), (66, 0.317981), (95, 0.3179769), (360, 0.3179722), (214, 0.3178769), (238, 0.31756312), (405, 0.31748274), (127, 0.31746197), (100, 0.31743598), (468, 0.31729886), (16, 0.31726512), (249, 0.3171724), (121, 0.31710628), (309, 0.31701067), (479, 0.3170031), (70, 0.31699127), (77, 0.31682247), (460, 0.3167511), (218, 0.31663853), (148, 0.31657243), (333, 0.31655663), (140, 0.31640366), (161, 0.3162214), (440, 0.31621847), (264, 0.31608373), (263, 0.31594467), (395, 0.3159398), (134, 0.31588334), (474, 0.31583318), (414, 0.31579208), (98, 0.31577352), (240, 0.31575784), (363, 0.31574276), (294, 0.31562066), (487, 0.3154647), (58, 0.3154179), (60, 0.31535128), (457, 0.31534034), (65, 0.31530076), (217, 0.31525502), (163, 0.3151373), (329, 0.31512976), (234, 0.31506616), (149, 0.31505743), (25, 0.31486592), (411, 0.31485558), (340, 0.31481424), (281, 0.3147657), (361, 0.31472594), (490, 0.31468198), (257, 0.3146742), (352, 0.31467345), (164, 0.3146578), (404, 0.31464094), (225, 0.314615), (498, 0.31448036), (31, 0.314351), (489, 0.3142891), (408, 0.31422257), (17, 0.31405106), (256, 0.31404594), (259, 0.31403697), (181, 0.31402162), (168, 0.31400135), (115, 0.31390694), (226, 0.31386718), (155, 0.31384602), (481, 0.3138181), (75, 0.31380862), (61, 0.31379136), (3, 0.31374228), (278, 0.3137185), (447, 0.31367722), (64, 0.31361526), (169, 0.31355542), (167, 0.31340975), (15, 0.3133932), (185, 0.313378), (462, 0.31334424), (338, 0.31332782), (310, 0.31330523), (174, 0.3131984), (413, 0.31316048), (342, 0.31314692), (137, 0.3131328), (451, 0.31311193), (412, 0.31310835), (170, 0.31310293), (224, 0.3130889), (437, 0.31305206), (30, 0.31304893), (356, 0.31302848), (56, 0.31301102), (129, 0.3129999), (271, 0.3129701), (13, 0.31295088), (210, 0.31293118), (21, 0.31291282), (470, 0.31288597), (426, 0.31284514), (254, 0.31282), (392, 0.3127067), (287, 0.31270626), (33, 0.31268594), (449, 0.31261015), (390, 0.31259367), (302, 0.31255552), (84, 0.3125052), (221, 0.31249318), (202, 0.31245124), (244, 0.3124483), (89, 0.31243008), (55, 0.31243005), (285, 0.3123204), (402, 0.31229722), (45, 0.31228945), (291, 0.3122152), (248, 0.31220013), (341, 0.31217587), (136, 0.3121267), (113, 0.3121234), (488, 0.3120837), (464, 0.312062), (438, 0.31184536), (4, 0.31180736), (231, 0.3117852), (265, 0.31175852), (320, 0.3116715), (455, 0.3116327), (315, 0.3116246), (48, 0.31157953), (158, 0.31154492), (377, 0.31151837), (330, 0.31149638), (370, 0.31148258), (41, 0.31145594), (335, 0.311452), (365, 0.3113678), (298, 0.31135166), (421, 0.3113311), (394, 0.31130818), (345, 0.31130555), (201, 0.31128797), (336, 0.31124842), (101, 0.3112235), (153, 0.31118083), (36, 0.3111521), (316, 0.31110278), (267, 0.3110652), (34, 0.31104568), (69, 0.3109834), (171, 0.31095475), (5, 0.31093302), (103, 0.31093237), (327, 0.31087303), (37, 0.3108522), (245, 0.31084508), (92, 0.3107941), (483, 0.31078085), (50, 0.31076905), (126, 0.3106427), (236, 0.31062207), (197, 0.310596), (378, 0.3105942), (300, 0.31053883), (112, 0.3105327), (389, 0.3105193), (159, 0.3105187), (63, 0.3104822), (410, 0.31047067), (364, 0.31046748), (396, 0.3104553), (477, 0.31044844), (322, 0.31043556), (114, 0.31037006), (242, 0.31029546), (206, 0.31027082), (416, 0.3102396), (273, 0.3102154), (357, 0.31020406), (82, 0.3101524), (299, 0.310137), (20, 0.31011757), (425, 0.3099707), (482, 0.30992776), (235, 0.30990797), (52, 0.3098239), (304, 0.30980238), (79, 0.30975312), (301, 0.30969194), (118, 0.30967915), (359, 0.30967605), (81, 0.30965915), (469, 0.30962107), (409, 0.30957216), (494, 0.30950165), (141, 0.30949217), (28, 0.30936745), (209, 0.3093255), (156, 0.30929866), (80, 0.30925462), (94, 0.30925292), (458, 0.30921566), (433, 0.30914745), (72, 0.30908093), (431, 0.30899686), (497, 0.3089945), (62, 0.3089944), (453, 0.3089509), (326, 0.30888593), (368, 0.3088846), (495, 0.30883712), (476, 0.30875275), (251, 0.30875227), (111, 0.30874765), (96, 0.30869544), (386, 0.30867338), (430, 0.30866295), (367, 0.3086347), (107, 0.3086274), (441, 0.30854973), (303, 0.3084877), (182, 0.30846933), (397, 0.3084651), (18, 0.30843082), (344, 0.30842406), (398, 0.30840462), (418, 0.30837777), (223, 0.30837268), (247, 0.30835548), (27, 0.30833924), (284, 0.30831817), (213, 0.30831322), (471, 0.30827957), (461, 0.30823097), (172, 0.30814746), (323, 0.30811465), (178, 0.30811164), (337, 0.30808496), (135, 0.30807847), (131, 0.30804518), (154, 0.30801603), (353, 0.3079589), (42, 0.30790704), (276, 0.3078249), (350, 0.3077909), (91, 0.30775636), (465, 0.30768004), (19, 0.3076401), (227, 0.30760935), (463, 0.3075733), (428, 0.30750075), (241, 0.30749995), (165, 0.307462), (308, 0.307398), (493, 0.30733526), (143, 0.3073044), (208, 0.30728054), (106, 0.30727467), (250, 0.30726522), (144, 0.30724928), (162, 0.30720404), (219, 0.30718905), (384, 0.3071569), (191, 0.30715346), (376, 0.30714762), (275, 0.30713388), (391, 0.30704945), (157, 0.30697042), (110, 0.30686027), (102, 0.3068592), (123, 0.3068363), (375, 0.30679867), (199, 0.3067984), (456, 0.30676958), (150, 0.3067285), (439, 0.30668586), (491, 0.306683), (486, 0.30666882), (133, 0.30666453), (73, 0.30661488), (280, 0.30658215), (325, 0.3065802), (277, 0.30654332), (138, 0.3065284), (68, 0.306486), (160, 0.30648357), (475, 0.30641094), (420, 0.30638894), (119, 0.306302), (283, 0.30628616), (293, 0.30628172), (305, 0.30627897), (423, 0.30626908), (104, 0.30626592), (142, 0.30625796), (71, 0.30624676), (215, 0.306188), (319, 0.30612713), (403, 0.30607542), (175, 0.30602124), (195, 0.3059992), (369, 0.30593276), (480, 0.3059318), (239, 0.30590522), (445, 0.3058063), (43, 0.30577886), (373, 0.30574483), (374, 0.305705), (268, 0.30569923), (318, 0.3056046), (354, 0.3055959), (24, 0.30554077), (205, 0.30553454), (76, 0.30550075), (145, 0.30545098), (419, 0.3054252), (383, 0.30531466), (331, 0.30530673), (130, 0.30530003), (177, 0.3052711), (422, 0.30526322), (11, 0.30518112), (429, 0.30506775), (192, 0.3050638), (26, 0.30505994), (347, 0.30503243), (443, 0.3049575), (87, 0.3048988), (328, 0.30485776), (358, 0.30480278), (355, 0.3047266), (401, 0.30470034), (286, 0.30468965), (381, 0.30461627), (382, 0.3045707), (186, 0.30454323), (139, 0.304541), (184, 0.30452526), (393, 0.3044044), (262, 0.30428585), (454, 0.30425355), (38, 0.30425286), (54, 0.3042281), (46, 0.30422476), (203, 0.3041379), (109, 0.30410814), (442, 0.30408406), (266, 0.3040734), (246, 0.30403), (78, 0.30393356), (448, 0.30388048), (8, 0.30386108), (124, 0.30385745), (132, 0.30382127), (189, 0.30377454), (173, 0.30374578), (400, 0.30366433), (288, 0.30363634), (39, 0.3036352), (467, 0.30357113), (388, 0.3035711), (47, 0.30353492), (200, 0.3034506), (57, 0.30339116), (289, 0.3033907), (166, 0.30337724), (207, 0.3030995), (270, 0.30302784), (220, 0.30302474), (339, 0.30300534), (434, 0.3029606), (407, 0.30293846), (274, 0.30285245), (349, 0.3028365), (492, 0.3027821), (204, 0.30277264), (1, 0.30267537), (230, 0.3026288), (306, 0.30251393), (67, 0.302482), (222, 0.30241776), (29, 0.30234665), (22, 0.30233952), (312, 0.30230942), (348, 0.302297), (233, 0.302197), (406, 0.30208808), (450, 0.3019118), (7, 0.301909), (484, 0.30190173), (228, 0.3018845), (97, 0.30187005), (40, 0.30186796), (427, 0.30179617), (436, 0.30171394), (74, 0.30171004), (85, 0.30170217), (190, 0.3014586), (417, 0.30139598), (379, 0.3013727), (187, 0.30127424), (272, 0.30106562), (261, 0.30105928), (478, 0.30105332), (93, 0.3010276), (128, 0.30094814), (366, 0.30090174), (255, 0.3007446), (296, 0.30064762), (116, 0.3006352), (485, 0.30036065), (35, 0.30035093), (51, 0.30030948), (152, 0.3002811), (6, 0.30023298), (260, 0.30005673), (297, 0.30005044), (279, 0.30000848), (444, 0.2996887), (314, 0.2996728), (196, 0.29960686), (176, 0.2994821), (432, 0.29937777), (295, 0.2993665), (180, 0.29929543), (146, 0.29926053), (188, 0.2992592), (466, 0.29921702), (415, 0.29909375), (23, 0.2989616), (125, 0.29885718), (362, 0.29882705), (9, 0.298685), (49, 0.29857805), (372, 0.29848644), (446, 0.29817736), (252, 0.29813892), (385, 0.2981357), (211, 0.2980925), (435, 0.29808265), (14, 0.29761615), (232, 0.2972917), (380, 0.29718307), (183, 0.29683542), (269, 0.29682788), (44, 0.29671538), (371, 0.29668087), (12, 0.2965629), (83, 0.2964654), (324, 0.2964556), (387, 0.29639524), (86, 0.2962712), (151, 0.29611096), (253, 0.29607427), (59, 0.29589924), (317, 0.29589885), (282, 0.2958515), (351, 0.29570636), (243, 0.29570568), (452, 0.2955881), (108, 0.295495), (179, 0.29532003), (311, 0.2952345), (313, 0.29482737), (212, 0.29467314), (198, 0.29451558), (122, 0.29426944), (290, 0.29420412), (229, 0.29403716), (10, 0.2937108), (216, 0.29358533), (53, 0.29277602), (332, 0.29257748), (346, 0.2925665), (473, 0.29164279), (321, 0.2914618), (292, 0.2912534), (99, 0.29116708), (237, 0.29065853), (472, 0.29043224), (32, 0.28605297), (424, 0.2850257), (0, 0.28400776)]\n"
     ]
    }
   ],
   "source": [
    "user_preference = sorted(item_rating.items(), key=lambda kv: kv[1], reverse=True)\n",
    "print(user_preference)"
   ]
  },
  {
   "cell_type": "code",
   "execution_count": null,
   "metadata": {},
   "outputs": [],
   "source": []
  }
 ],
 "metadata": {
  "kernelspec": {
   "display_name": "Python 3",
   "language": "python",
   "name": "python3"
  },
  "language_info": {
   "codemirror_mode": {
    "name": "ipython",
    "version": 3
   },
   "file_extension": ".py",
   "mimetype": "text/x-python",
   "name": "python",
   "nbconvert_exporter": "python",
   "pygments_lexer": "ipython3",
   "version": "3.8.3"
  }
 },
 "nbformat": 4,
 "nbformat_minor": 2
}
