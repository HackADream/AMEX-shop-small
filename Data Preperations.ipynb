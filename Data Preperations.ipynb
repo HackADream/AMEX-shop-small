{
 "cells": [
  {
   "cell_type": "markdown",
   "metadata": {},
   "source": [
    "# Random Data Generated"
   ]
  },
  {
   "cell_type": "markdown",
   "metadata": {},
   "source": [
    "This code will generate two CSV data. One CSV data is named as \"user_rating.csv\". It contains 500 unique users with their ratings on the items they bought. The rating score ranges from 1 to 10. The other CSV data is named as \"list_items.csv\". It contains 500 unique items. Our goal of the prediction is to predict the ratings that each user will give to the items they have not bought. "
   ]
  },
  {
   "cell_type": "markdown",
   "metadata": {},
   "source": [
    "# List of Items"
   ]
  },
  {
   "cell_type": "markdown",
   "metadata": {},
   "source": [
    "Each item has a unique ID, from 1 to n, where n = 500. "
   ]
  },
  {
   "cell_type": "code",
   "execution_count": 6,
   "metadata": {},
   "outputs": [],
   "source": [
    "import pandas as pd\n",
    "\n",
    "N = 500\n",
    "items_id = list(range(1, N+1))\n",
    "list_items = {'ItemID' : items_id}\n",
    "df = pd.DataFrame(list_items, columns= ['ItemID'])"
   ]
  },
  {
   "cell_type": "markdown",
   "metadata": {},
   "source": [
    "We export the data as CSV file named \"list_items.csv\" to the same directory as this notebook."
   ]
  },
  {
   "cell_type": "code",
   "execution_count": 7,
   "metadata": {},
   "outputs": [],
   "source": [
    "df.to_csv('list_items.csv', index = False, header=True)"
   ]
  },
  {
   "cell_type": "markdown",
   "metadata": {},
   "source": [
    "# User Rating"
   ]
  },
  {
   "cell_type": "markdown",
   "metadata": {},
   "source": [
    "Each user has a unique ID, from 1 to n, where n = 500. When we generate the data randomly, we have a few assumptions:\n",
    "\n",
    "1. Each user has a probability of 0.5 of buying an item.\n",
    "2. If the user does not buy the item, the user does not give rating to the item.\n",
    "3. If the user bought the item, the user has a probability of 0.5 of rating it.\n",
    "4. If the user does not rate it, we assume the user gives 5.0 for the item.\n",
    "5. If the user rated the item, the rating of the item will be what the user gives."
   ]
  },
  {
   "cell_type": "code",
   "execution_count": 10,
   "metadata": {},
   "outputs": [],
   "source": [
    "import random\n",
    "\n",
    "users_id = list(range(1, N+1))\n",
    "user_list = []\n",
    "item_list = []\n",
    "rating_list = []\n",
    "prob_buying = 0.5\n",
    "prob_rating = 0.5\n",
    "default_rating = 0.5\n",
    "\n",
    "for user in users_id:\n",
    "    for item in items_id:\n",
    "        buying = random.uniform(0,1)\n",
    "        if buying < prob_buying:\n",
    "            #user buys the item\n",
    "            user_list.append(user)\n",
    "            item_list.append(item)\n",
    "            rating = random.uniform(0,1)\n",
    "            if rating < prob_rating:\n",
    "                #user rates the item\n",
    "                rating_list.append(int(random.uniform(0,10)))\n",
    "            else:\n",
    "                #user does not rate the item, default rating is 0.5\n",
    "                rating_list.append(int(5))\n",
    "\n",
    "list_ratings = {'UserID' : user_list, 'ItemID' : item_list, 'Rating': rating_list}\n",
    "df2 = pd.DataFrame(list_ratings, columns= ['UserID', 'ItemID', 'Rating'])"
   ]
  },
  {
   "cell_type": "code",
   "execution_count": 11,
   "metadata": {},
   "outputs": [],
   "source": [
    "df2.to_csv('user_rating.csv', index = False, header=True)"
   ]
  }
 ],
 "metadata": {
  "kernelspec": {
   "display_name": "Python 3",
   "language": "python",
   "name": "python3"
  },
  "language_info": {
   "codemirror_mode": {
    "name": "ipython",
    "version": 3
   },
   "file_extension": ".py",
   "mimetype": "text/x-python",
   "name": "python",
   "nbconvert_exporter": "python",
   "pygments_lexer": "ipython3",
   "version": "3.7.0"
  }
 },
 "nbformat": 4,
 "nbformat_minor": 2
}
