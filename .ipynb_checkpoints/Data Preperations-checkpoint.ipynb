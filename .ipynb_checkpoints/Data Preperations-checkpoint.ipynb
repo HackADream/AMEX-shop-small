{
 "cells": [
  {
   "cell_type": "markdown",
   "metadata": {},
   "source": [
    "# Random Data Generated"
   ]
  },
  {
   "cell_type": "markdown",
   "metadata": {},
   "source": [
    "This code will generate two CSV data. One CSV data is named as \"user_rating.csv\". It contains 500 unique users with their ratings on the items they bought. The rating score ranges from 1 to 10. Another is called \"list_items.csv\". It contains 500 unique items, its postcode and price. Our goal of the prediction is to predict the ratings that each user will give to the items they have not bought. We generate random 10 postcodes which will be randomly assigned to each items. We are not generating random postcodes for each items as it will take too much of time."
   ]
  },
  {
   "cell_type": "markdown",
   "metadata": {},
   "source": [
    "# List of Items"
   ]
  },
  {
   "cell_type": "markdown",
   "metadata": {},
   "source": [
    "Each item has a unique ID, from 1 to n, where n = 500. "
   ]
  },
  {
   "cell_type": "code",
   "execution_count": 2,
   "metadata": {},
   "outputs": [],
   "source": [
    "import pandas as pd\n",
    "import requests\n",
    "import json\n",
    "import random\n",
    "\n",
    "N = 500\n",
    "\n",
    "items = []\n",
    "\n",
    "postcode_item = []\n",
    "postcode_name = []\n",
    "postcode_price = []\n",
    "\n",
    "random_postcode = []\n",
    "for i in range(0,10):\n",
    "    r = requests.get('https://api.postcodes.io/random/postcodes')\n",
    "    postcode = json.loads(r.content)[\"result\"][\"postcode\"]\n",
    "    random_postcode.append(postcode)\n",
    "    \n",
    "for j in range(0,N):\n",
    "    postcode_item.append(j+1)\n",
    "    name = random.choice(random_postcode)\n",
    "    postcode_name.append(name)\n",
    "    price = int(random.uniform(5,100))\n",
    "    postcode_price.append(price)\n",
    "    items.append({\"item_id\" : j+1, \"item_postcode\" : name})"
   ]
  },
  {
   "cell_type": "markdown",
   "metadata": {},
   "source": [
    "# User Rating"
   ]
  },
  {
   "cell_type": "markdown",
   "metadata": {},
   "source": [
    "Each user has a unique ID, from 1 to n, where n = 500. When we generate the data randomly, we have a few assumptions:\n",
    "\n",
    "1. Each user has a probability of 0.5 of buying an item.\n",
    "2. If the user does not buy the item, the user does not give rating to the item.\n",
    "3. If the user bought the item, the user has a probability of 0.5 of rating it.\n",
    "4. If the user does not rate it, we rate the item based on how many times the user buys.\n",
    "5. If the user rated the item, the rating of the item will be what the user gives.\n",
    "6. For each item, the postcode is in UK and randomly generated."
   ]
  },
  {
   "cell_type": "code",
   "execution_count": 3,
   "metadata": {},
   "outputs": [],
   "source": [
    "import random\n",
    "\n",
    "users_id = list(range(1, N+1))\n",
    "user_list = []\n",
    "item_list = []\n",
    "postcode_list = []\n",
    "rating_list = []\n",
    "prob_buying = 0.5\n",
    "prob_rating = 0.5\n",
    "default_rating = 0.5\n",
    "\n",
    "for user in users_id:\n",
    "    for item in items:\n",
    "        buying = random.uniform(0,1)\n",
    "        if buying < prob_buying:\n",
    "            #user buys the item\n",
    "            user_list.append(user)\n",
    "            item_list.append(item['item_id'])\n",
    "            postcode_list.append(item['item_postcode'])\n",
    "            rating = random.uniform(0,1)\n",
    "            if rating < prob_rating:\n",
    "                #user rates the item\n",
    "                rating_list.append(int(random.uniform(0,10)))\n",
    "            else:\n",
    "                #user does not rate the item, default rating is 0.5\n",
    "                quantity = int(random.uniform(0,1))\n",
    "                if(quantity >=10):\n",
    "                    quantity = 10\n",
    "                rating_list.append(quantity)\n",
    "\n",
    "list_items = {'ItemID' : postcode_item, 'Postcode' : postcode_name, 'Price' : postcode_price}\n",
    "user_ratings = {'UserID' : user_list, 'ItemID' : item_list, 'Rating': rating_list, 'Postcode' : postcode_list}\n",
    "df1 = pd.DataFrame(list_items, columns= ['ItemID', 'Postcode', 'Price'])\n",
    "df2 = pd.DataFrame(user_ratings, columns= ['UserID', 'ItemID', 'Rating', 'Postcode'])"
   ]
  },
  {
   "cell_type": "code",
   "execution_count": 4,
   "metadata": {},
   "outputs": [],
   "source": [
    "df1.to_csv('list_items.csv', index = False, header=True)\n",
    "df2.to_csv('user_rating.csv', index = False, header=True)"
   ]
  }
 ],
 "metadata": {
  "kernelspec": {
   "display_name": "Python 3",
   "language": "python",
   "name": "python3"
  },
  "language_info": {
   "codemirror_mode": {
    "name": "ipython",
    "version": 3
   },
   "file_extension": ".py",
   "mimetype": "text/x-python",
   "name": "python",
   "nbconvert_exporter": "python",
   "pygments_lexer": "ipython3",
   "version": "3.8.3"
  }
 },
 "nbformat": 4,
 "nbformat_minor": 2
}
